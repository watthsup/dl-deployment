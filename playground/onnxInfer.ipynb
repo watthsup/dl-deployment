{
 "cells": [
  {
   "cell_type": "code",
   "execution_count": 1,
   "id": "0a320ce4",
   "metadata": {},
   "outputs": [
    {
     "name": "stderr",
     "output_type": "stream",
     "text": [
      "C:\\Users\\likeo\\anaconda3\\envs\\pytorch\\lib\\site-packages\\scipy\\__init__.py:146: UserWarning: A NumPy version >=1.16.5 and <1.23.0 is required for this version of SciPy (detected version 1.24.1\n",
      "  warnings.warn(f\"A NumPy version >={np_minversion} and <{np_maxversion}\"\n"
     ]
    }
   ],
   "source": [
    "import torch\n",
    "import onnxruntime\n",
    "import numpy as np\n",
    "import cv2\n",
    "from albumentations.pytorch import ToTensorV2\n",
    "import albumentations as A\n",
    "import onnxruntime as onnxrt"
   ]
  },
  {
   "cell_type": "code",
   "execution_count": 2,
   "id": "5637f61e",
   "metadata": {},
   "outputs": [],
   "source": [
    "def pre_process(numpy_data):\n",
    "    transform = A.Compose(\n",
    "                [\n",
    "                    A.Resize(height=224, width=224),\n",
    "                    A.Normalize(\n",
    "                        mean=[0.485, 0.456, 0.406], \n",
    "                        std=[0.229, 0.224, 0.225],\n",
    "                        max_pixel_value=255., \n",
    "                        p=1.0\n",
    "                    ),\n",
    "                    ToTensorV2(),\n",
    "                ])\n",
    "    transform = transform(image=numpy_data)\n",
    "    image = transform[\"image\"]\n",
    "    return image\n",
    "    \n",
    "def predict(numpy_data):\n",
    "    input_data = pre_process(numpy_data)\n",
    "    input_batch = input_data.unsqueeze(0)\n",
    "    with open('imagenet-idx.txt') as f:\n",
    "        classes = [line.strip() for line in f.readlines()]\n",
    "\n",
    "    onnx_session= onnxrt.InferenceSession(\"models\\\\tensorrt_fp16_model\\\\1\\\\model.onnx\")\n",
    "    onnx_output = onnx_session.run(None, {'input' : input_batch.numpy().astype(np.float16)})\n",
    "    onnx_output = torch.FloatTensor(np.array(onnx_output)).reshape(1,-1)\n",
    "    prob = torch.nn.functional.softmax(onnx_output, dim=1)[0] * 100\n",
    "    _, indices = torch.sort(prob, descending=True)\n",
    "    return [(classes[idx], prob[idx].item()) for idx in indices[:10]]"
   ]
  },
  {
   "cell_type": "code",
   "execution_count": 9,
   "id": "affee7de",
   "metadata": {},
   "outputs": [],
   "source": [
    "image = cv2.imread('images\\\\toy.jpg')\n",
    "image = cv2.cvtColor(image, cv2.COLOR_BGR2RGB)\n",
    "transformed_image = pre_process(image)"
   ]
  },
  {
   "cell_type": "code",
   "execution_count": 10,
   "id": "4ce23a9a",
   "metadata": {},
   "outputs": [],
   "source": [
    "pred = predict(image)"
   ]
  },
  {
   "cell_type": "code",
   "execution_count": 11,
   "id": "42d0d206",
   "metadata": {},
   "outputs": [
    {
     "data": {
      "text/plain": [
       "[('toy poodle', 79.48882293701172),\n",
       " ('miniature poodle', 20.097919464111328),\n",
       " ('teddy, teddy bear', 0.32996830344200134),\n",
       " ('standard poodle', 0.0419507659971714),\n",
       " ('Airedale, Airedale terrier', 0.013619418255984783),\n",
       " ('Norwich terrier', 0.007699721958488226),\n",
       " ('Irish terrier', 0.0031599593348801136),\n",
       " ('Yorkshire terrier', 0.002854785416275263),\n",
       " ('Lakeland terrier', 0.0024039701092988253),\n",
       " ('wig', 0.0016013894928619266)]"
      ]
     },
     "execution_count": 11,
     "metadata": {},
     "output_type": "execute_result"
    }
   ],
   "source": [
    "pred"
   ]
  },
  {
   "cell_type": "code",
   "execution_count": null,
   "id": "0765f9af",
   "metadata": {},
   "outputs": [],
   "source": []
  }
 ],
 "metadata": {
  "kernelspec": {
   "display_name": "Python 3",
   "language": "python",
   "name": "python3"
  },
  "language_info": {
   "codemirror_mode": {
    "name": "ipython",
    "version": 3
   },
   "file_extension": ".py",
   "mimetype": "text/x-python",
   "name": "python",
   "nbconvert_exporter": "python",
   "pygments_lexer": "ipython3",
   "version": "3.8.10"
  },
  "vscode": {
   "interpreter": {
    "hash": "5a8a81ff5d755b15bad9772d7c59b5f150b144c443f5da213845dae9e79d687b"
   }
  }
 },
 "nbformat": 4,
 "nbformat_minor": 5
}
