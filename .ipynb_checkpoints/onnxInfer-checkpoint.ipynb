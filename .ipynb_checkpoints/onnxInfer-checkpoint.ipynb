{
 "cells": [
  {
   "cell_type": "code",
   "execution_count": 1,
   "id": "0a320ce4",
   "metadata": {},
   "outputs": [
    {
     "name": "stderr",
     "output_type": "stream",
     "text": [
      "C:\\Users\\likeo\\anaconda3\\envs\\pytorch\\lib\\site-packages\\scipy\\__init__.py:146: UserWarning: A NumPy version >=1.16.5 and <1.23.0 is required for this version of SciPy (detected version 1.24.1\n",
      "  warnings.warn(f\"A NumPy version >={np_minversion} and <{np_maxversion}\"\n"
     ]
    }
   ],
   "source": [
    "import torch\n",
    "import onnxruntime\n",
    "import numpy as np\n",
    "import cv2\n",
    "from albumentations.pytorch import ToTensorV2\n",
    "import albumentations as A\n",
    "import onnxruntime as onnxrt"
   ]
  },
  {
   "cell_type": "code",
   "execution_count": 2,
   "id": "5637f61e",
   "metadata": {},
   "outputs": [],
   "source": [
    "def pre_process(numpy_data):\n",
    "    transform = A.Compose(\n",
    "                [\n",
    "                    A.Resize(height=224, width=224),\n",
    "                    A.Normalize(\n",
    "                        mean=[0.485, 0.456, 0.406], \n",
    "                        std=[0.229, 0.224, 0.225],\n",
    "                        max_pixel_value=255., \n",
    "                        p=1.0\n",
    "                    ),\n",
    "                    ToTensorV2(),\n",
    "                ])\n",
    "    transform = transform(image=numpy_data)\n",
    "    image = transform[\"image\"]\n",
    "    return image\n",
    "    \n",
    "def predict(numpy_data):\n",
    "    input_data = pre_process(numpy_data)\n",
    "    input_batch = input_data.unsqueeze(0)\n",
    "    with open('imagenet-idx.txt') as f:\n",
    "        classes = [line.strip() for line in f.readlines()]\n",
    "\n",
    "    onnx_session= onnxrt.InferenceSession(\"models\\\\tensorrt_fp16_model\\\\1\\\\model.onnx\")\n",
    "    onnx_output = onnx_session.run(None, {'input' : input_batch.numpy()})\n",
    "    onnx_output = torch.FloatTensor(np.array(onnx_output)).reshape(1,-1)\n",
    "    prob = torch.nn.functional.softmax(onnx_output, dim=1)[0] * 100\n",
    "    _, indices = torch.sort(prob, descending=True)\n",
    "    return [(classes[idx], prob[idx].item()) for idx in indices[:10]]"
   ]
  },
  {
   "cell_type": "code",
   "execution_count": 3,
   "id": "affee7de",
   "metadata": {},
   "outputs": [],
   "source": [
    "image = cv2.imread('images\\\\car.jpg')\n",
    "image = cv2.cvtColor(image, cv2.COLOR_BGR2RGB)\n",
    "transformed_image = pre_process(image)"
   ]
  },
  {
   "cell_type": "code",
   "execution_count": 4,
   "id": "4ce23a9a",
   "metadata": {},
   "outputs": [],
   "source": [
    "pred = predict(image)"
   ]
  },
  {
   "cell_type": "code",
   "execution_count": 5,
   "id": "42d0d206",
   "metadata": {},
   "outputs": [
    {
     "data": {
      "text/plain": [
       "[('sports car, sport car', 95.72743225097656),\n",
       " ('racer, race car, racing car', 2.1000659465789795),\n",
       " ('car wheel', 1.018267035484314),\n",
       " ('convertible', 0.9588374495506287),\n",
       " ('grille, radiator grille', 0.10270078480243683),\n",
       " ('pickup, pickup truck', 0.04620283469557762),\n",
       " ('beach wagon, station wagon, wagon, estate car, beach waggon, station waggon, waggon',\n",
       "  0.014915943145751953),\n",
       " ('cab, hack, taxi, taxicab', 0.005070718936622143),\n",
       " ('passenger car, coach, carriage', 0.0028018183074891567),\n",
       " ('limousine, limo', 0.001993861049413681)]"
      ]
     },
     "execution_count": 5,
     "metadata": {},
     "output_type": "execute_result"
    }
   ],
   "source": [
    "pred"
   ]
  },
  {
   "cell_type": "code",
   "execution_count": null,
   "id": "7f8bffc6",
   "metadata": {},
   "outputs": [],
   "source": []
  }
 ],
 "metadata": {
  "kernelspec": {
   "display_name": "Python 3",
   "language": "python",
   "name": "python3"
  },
  "language_info": {
   "codemirror_mode": {
    "name": "ipython",
    "version": 3
   },
   "file_extension": ".py",
   "mimetype": "text/x-python",
   "name": "python",
   "nbconvert_exporter": "python",
   "pygments_lexer": "ipython3",
   "version": "3.8.10"
  },
  "vscode": {
   "interpreter": {
    "hash": "5a8a81ff5d755b15bad9772d7c59b5f150b144c443f5da213845dae9e79d687b"
   }
  }
 },
 "nbformat": 4,
 "nbformat_minor": 5
}
